{
 "cells": [
  {
   "cell_type": "code",
   "execution_count": 12,
   "metadata": {},
   "outputs": [],
   "source": [
    "from nltk.stem import PorterStemmer\n",
    "from nltk.tokenize import sent_tokenize, word_tokenize\n",
    "import re\n",
    "import string\n",
    "#Natural Language Processing Helper Functions\n",
    "def make_text(words=[]):\n",
    "    \"\"\"Make Text from array of words\"\"\"\n",
    "    text = \"\"\n",
    "    for index,word in enumerate(words):\n",
    "        if index != 0:\n",
    "            text += \" \"\n",
    "        text += word\n",
    "    return text"
   ]
  },
  {
   "cell_type": "code",
   "execution_count": 13,
   "metadata": {},
   "outputs": [],
   "source": [
    "def n_gram(text=\"\",n=2):\n",
    "    \"\"\"Return N-grams from given text\"\"\"\n",
    "    grams = []\n",
    "    text = text.split()\n",
    "    for index,word in enumerate(text):\n",
    "        if index+n > len(text):\n",
    "            break\n",
    "        gram = text[index]\n",
    "        grams.append(make_text(text[index:index+n]))\n",
    "    return grams"
   ]
  },
  {
   "cell_type": "code",
   "execution_count": 20,
   "metadata": {},
   "outputs": [],
   "source": [
    "def calculate_probability_of_next_word(word=\"\", nextWord=\"\", text=[]):\n",
    "    \"\"\"Caculate the probability of the word which comes after a given word in text\"\"\"\n",
    "    text_length = len(text)\n",
    "    word_indices_in_text = [index for index,singleWord in enumerate(text) if singleWord == word]\n",
    "    word_freq = len(word_indices_in_text)\n",
    "    if(word_freq == 0):\n",
    "        return 0.0\n",
    "    match = 0\n",
    "    for index in word_indices_in_text:\n",
    "        if(index+1 < text_length):\n",
    "            if(text[index+1] == nextWord):\n",
    "                match += 1\n",
    "    return match / word_freq"
   ]
  },
  {
   "cell_type": "code",
   "execution_count": 21,
   "metadata": {},
   "outputs": [],
   "source": [
    "def text_preprocess(text):\n",
    "    text = text.lower()\n",
    "    text_no_punct = \"\".join([char for char in text if char not in string.punctuation])\n",
    "    #Remove Non chars\n",
    "    pattern = \"r\\W+\"\n",
    "    processed_text = re.sub(pattern,'', text_no_punct)\n",
    "    return processed_text"
   ]
  },
  {
   "cell_type": "code",
   "execution_count": 22,
   "metadata": {},
   "outputs": [],
   "source": [
    "def word_tokenizer(text):\n",
    "    pattern = r\"\\W+\"\n",
    "    words = re.split(pattern,text)\n",
    "    return words"
   ]
  },
  {
   "cell_type": "code",
   "execution_count": 23,
   "metadata": {},
   "outputs": [],
   "source": [
    "def stem(words):\n",
    "    ps = PorterStemmer()\n",
    "    words = [ps.stem(word) for word in words]\n",
    "    return words"
   ]
  },
  {
   "cell_type": "code",
   "execution_count": 24,
   "metadata": {},
   "outputs": [],
   "source": [
    "def count_vectorizer(text):\n",
    "    words = stem(word_tokenizer(text_preprocess(text)))\n",
    "    bagOfWords = set(words)\n",
    "    n = len(bagOfWords)\n",
    "    countVectorizer = [[0 for i in range(0, n)] for j in range(0,n)]\n",
    "    for i in range(0,n):\n",
    "        for j in range(0,n):\n",
    "            countVectorizer[i][j] = calculate_probability_of_next_word(words[i],words[j],words)\n",
    "    return [countVectorizer,bagOfWords]"
   ]
  },
  {
   "cell_type": "code",
   "execution_count": 26,
   "metadata": {},
   "outputs": [
    {
     "data": {
      "text/plain": [
       "[[[0.0, 0.5, 0.0, 0.5, 0.0, 0.0, 0.0],\n",
       "  [0.0, 0.0, 1.0, 0.0, 0.0, 0.0, 0.0],\n",
       "  [0.0, 0.0, 0.0, 1.0, 0.0, 0.0, 0.0],\n",
       "  [0.0, 0.0, 0.0, 0.0, 1.0, 0.0, 0.0],\n",
       "  [0.0, 0.0, 0.0, 0.0, 0.0, 1.0, 0.0],\n",
       "  [0.3333333333333333, 0.0, 0.0, 0.0, 0.0, 0.0, 0.3333333333333333],\n",
       "  [0.0, 1.0, 0.0, 0.0, 0.0, 0.0, 0.0]],\n",
       " {'chines', 'eat', 'food', 'i', 'nobodi', 'to', 'want'}]"
      ]
     },
     "execution_count": 26,
     "metadata": {},
     "output_type": "execute_result"
    }
   ],
   "source": [
    "text = \"I want to eat chinese food. Nobody wants to eat chinese food. I eat chinese food.\"\n",
    "count_vectorizer(text)"
   ]
  },
  {
   "cell_type": "code",
   "execution_count": null,
   "metadata": {},
   "outputs": [],
   "source": []
  }
 ],
 "metadata": {
  "kernelspec": {
   "display_name": "Python 3",
   "language": "python",
   "name": "python3"
  },
  "language_info": {
   "codemirror_mode": {
    "name": "ipython",
    "version": 3
   },
   "file_extension": ".py",
   "mimetype": "text/x-python",
   "name": "python",
   "nbconvert_exporter": "python",
   "pygments_lexer": "ipython3",
   "version": "3.6.5"
  }
 },
 "nbformat": 4,
 "nbformat_minor": 2
}
