{
 "cells": [
  {
   "cell_type": "code",
   "execution_count": 3,
   "metadata": {},
   "outputs": [],
   "source": [
    "import nltk"
   ]
  },
  {
   "cell_type": "code",
   "execution_count": 4,
   "metadata": {},
   "outputs": [],
   "source": [
    "from nltk.stem import PorterStemmer"
   ]
  },
  {
   "cell_type": "code",
   "execution_count": 5,
   "metadata": {},
   "outputs": [],
   "source": [
    "ps = PorterStemmer()"
   ]
  },
  {
   "cell_type": "code",
   "execution_count": 6,
   "metadata": {},
   "outputs": [],
   "source": [
    "training_data = []\n",
    "training_data.append({'class': 'greeting', 'sentence': 'How are you?'})\n",
    "training_data.append({\"class\":\"greeting\", \"sentence\":\"how is your day?\"})\n",
    "training_data.append({\"class\":\"greeting\", \"sentence\":\"good day\"})\n",
    "training_data.append({\"class\":\"greeting\", \"sentence\":\"how is it going today?\"})\n",
    "\n",
    "training_data.append({\"class\":\"goodbye\", \"sentence\":\"have a nice day\"})\n",
    "training_data.append({\"class\":\"goodbye\", \"sentence\":\"see you later\"})\n",
    "training_data.append({\"class\":\"goodbye\", \"sentence\":\"have a nice day\"})\n",
    "training_data.append({\"class\":\"goodbye\", \"sentence\":\"talk to you soon\"})\n",
    "\n",
    "training_data.append({\"class\":\"sandwich\", \"sentence\":\"make me a sandwich\"})\n",
    "training_data.append({\"class\":\"sandwich\", \"sentence\":\"can you make a sandwich?\"})\n",
    "training_data.append({\"class\":\"sandwich\", \"sentence\":\"having a sandwich today?\"})\n",
    "training_data.append({\"class\":\"sandwich\", \"sentence\":\"what's for lunch?\"})"
   ]
  },
  {
   "cell_type": "code",
   "execution_count": 21,
   "metadata": {},
   "outputs": [],
   "source": [
    "corpus_words = {}\n",
    "class_words  = {}\n",
    "classes = list(set([a['class'] for a in training_data]))"
   ]
  },
  {
   "cell_type": "code",
   "execution_count": 22,
   "metadata": {},
   "outputs": [
    {
     "data": {
      "text/plain": [
       "['sandwich', 'goodbye', 'greeting']"
      ]
     },
     "execution_count": 22,
     "metadata": {},
     "output_type": "execute_result"
    }
   ],
   "source": [
    "classes"
   ]
  },
  {
   "cell_type": "code",
   "execution_count": 23,
   "metadata": {},
   "outputs": [],
   "source": [
    "for c in classes:\n",
    "    class_words[c] = []"
   ]
  },
  {
   "cell_type": "code",
   "execution_count": 24,
   "metadata": {},
   "outputs": [
    {
     "data": {
      "text/plain": [
       "{'sandwich': [], 'goodbye': [], 'greeting': []}"
      ]
     },
     "execution_count": 24,
     "metadata": {},
     "output_type": "execute_result"
    }
   ],
   "source": [
    "class_words"
   ]
  },
  {
   "cell_type": "code",
   "execution_count": 25,
   "metadata": {},
   "outputs": [],
   "source": [
    "for data in training_data:\n",
    "    for word in nltk.word_tokenize(data['sentence']):\n",
    "        if word not in ['?', \"'s\"]:\n",
    "            stemmed_word = ps.stem(word.lower())\n",
    "            \n",
    "            if stemmed_word not in corpus_words:\n",
    "                corpus_words[stemmed_word] = 1\n",
    "            else:\n",
    "                corpus_words[stemmed_word] += 1\n",
    "            \n",
    "            class_words[data['class']].extend([stemmed_word])\n",
    "            "
   ]
  },
  {
   "cell_type": "code",
   "execution_count": 26,
   "metadata": {},
   "outputs": [
    {
     "data": {
      "text/plain": [
       "{'how': 3,\n",
       " 'are': 1,\n",
       " 'you': 4,\n",
       " 'is': 2,\n",
       " 'your': 1,\n",
       " 'day': 4,\n",
       " 'good': 1,\n",
       " 'it': 1,\n",
       " 'go': 1,\n",
       " 'today': 2,\n",
       " 'have': 3,\n",
       " 'a': 5,\n",
       " 'nice': 2,\n",
       " 'see': 1,\n",
       " 'later': 1,\n",
       " 'talk': 1,\n",
       " 'to': 1,\n",
       " 'soon': 1,\n",
       " 'make': 2,\n",
       " 'me': 1,\n",
       " 'sandwich': 3,\n",
       " 'can': 1,\n",
       " 'what': 1,\n",
       " 'for': 1,\n",
       " 'lunch': 1}"
      ]
     },
     "execution_count": 26,
     "metadata": {},
     "output_type": "execute_result"
    }
   ],
   "source": [
    "corpus_words"
   ]
  },
  {
   "cell_type": "code",
   "execution_count": 32,
   "metadata": {},
   "outputs": [],
   "source": [
    "def calculate_score(sentence,class_name,show_details=True):\n",
    "    score = 0\n",
    "    for word in nltk.word_tokenize(sentence):\n",
    "        if ps.stem(word.lower()) in class_words[class_name]:\n",
    "            score += 1\n",
    "            if show_details:\n",
    "                print(ps.stem(word.lower()), \"matches.\")\n",
    "    return score"
   ]
  },
  {
   "cell_type": "code",
   "execution_count": 34,
   "metadata": {},
   "outputs": [
    {
     "name": "stdout",
     "output_type": "stream",
     "text": [
      "for matches.\n",
      "have matches.\n",
      "lunch matches.\n",
      "sandwich score =  3\n",
      "day matches.\n",
      "to matches.\n",
      "have matches.\n",
      "goodbye score =  3\n",
      "good matches.\n",
      "day matches.\n",
      "greeting score =  2\n"
     ]
    }
   ],
   "source": [
    "sentence = \"good day for us to have lunch?\"\n",
    "\n",
    "for c in class_words.keys():\n",
    "    print(c, \"score = \", calculate_score(sentence, c))"
   ]
  },
  {
   "cell_type": "code",
   "execution_count": 40,
   "metadata": {},
   "outputs": [],
   "source": [
    "def calculate_class_score(sentence,class_name,show_details=True):\n",
    "    score=0\n",
    "    \n",
    "    for word in nltk.word_tokenize(sentence):\n",
    "        \n",
    "        if ps.stem(word.lower()) in class_words[class_name]:\n",
    "            score += 1 / corpus_words[ps.stem(word.lower())]\n",
    "            \n",
    "            if show_details:\n",
    "                print(\"Match: (\", ps.stem(word.lower()), \") :\", score)\n",
    "    return score"
   ]
  },
  {
   "cell_type": "code",
   "execution_count": 41,
   "metadata": {},
   "outputs": [],
   "source": [
    "def classify(sentence):\n",
    "    high_class = None\n",
    "    high_score = 0\n",
    "    \n",
    "    for c in class_words.keys():\n",
    "        score = calculate_class_score(sentence,c)\n",
    "        if score > high_score:\n",
    "            high_score = score\n",
    "            high_class = c\n",
    "    return high_class,high_score"
   ]
  },
  {
   "cell_type": "code",
   "execution_count": 44,
   "metadata": {},
   "outputs": [
    {
     "data": {
      "text/plain": [
       "(None, 0)"
      ]
     },
     "execution_count": 44,
     "metadata": {},
     "output_type": "execute_result"
    }
   ],
   "source": [
    "classify(\"Bye Bye\")"
   ]
  },
  {
   "cell_type": "code",
   "execution_count": null,
   "metadata": {},
   "outputs": [],
   "source": []
  },
  {
   "cell_type": "code",
   "execution_count": null,
   "metadata": {},
   "outputs": [],
   "source": []
  }
 ],
 "metadata": {
  "kernelspec": {
   "display_name": "Python 3",
   "language": "python",
   "name": "python3"
  },
  "language_info": {
   "codemirror_mode": {
    "name": "ipython",
    "version": 3
   },
   "file_extension": ".py",
   "mimetype": "text/x-python",
   "name": "python",
   "nbconvert_exporter": "python",
   "pygments_lexer": "ipython3",
   "version": "3.6.5"
  }
 },
 "nbformat": 4,
 "nbformat_minor": 2
}
